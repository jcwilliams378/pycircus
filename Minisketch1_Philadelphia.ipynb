{
 "metadata": {
  "name": "",
  "signature": "sha256:539b2b244e4435e86708645b7c4d7f659bbb59f25da7aefc356160063549964f"
 },
 "nbformat": 3,
 "nbformat_minor": 0,
 "worksheets": [
  {
   "cells": [
    {
     "cell_type": "heading",
     "level": 1,
     "metadata": {},
     "source": [
      "Minisketch 1 - Analyzing Philadelphia's Temperature"
     ]
    },
    {
     "cell_type": "code",
     "collapsed": false,
     "input": [
      "# This line configures matplotlib to show figures embedded in the notebook\n",
      "%matplotlib inline"
     ],
     "language": "python",
     "metadata": {},
     "outputs": []
    },
    {
     "cell_type": "markdown",
     "metadata": {},
     "source": [
      "In this notebook we will go through a complete example of how to use python to perform some simple data analysis. We are looking at the daily High and Low temperature in Philadelphia from Jan 1, 1950 through Dec 31, 1999. The data itself was taken from the NOAA website. I have cleaned up the files received from the NOAA for the purposes of this minisketch.\n",
      "\n",
      "The data file is available in 3 slightly different formats.\n",
      "\n",
      "1. `data/phl_temperature_noheaders.txt` - Plain text file with the data in columns that are space separated \n",
      "2. `data/phl_temperature.xlsx` - Data in a Microsoft excel file format    "
     ]
    },
    {
     "cell_type": "markdown",
     "metadata": {},
     "source": [
      "Let us quickly look at the plain text file and its format. We open the file using the `open` command which takes the name of the file and a mode as arguments. The mode can either be 'r' for reading a file or 'w' for writing a file.\n",
      "\n",
      "There are several ways to read text data from text files. You can read a file one chatacter at a time using the `read()` method, until you run into a end of file character. \n",
      "\n",
      "A more convenient way to read the data is to read the file one line at a time using the `readline()` method. Lets read the first 10 lines of our file using this method."
     ]
    },
    {
     "cell_type": "code",
     "collapsed": false,
     "input": [
      "f = open('data/phl_temperature_noheaders.txt','r')\n",
      "for i in range(10):\n",
      "    line = f.readline()\n",
      "    print(line)"
     ],
     "language": "python",
     "metadata": {},
     "outputs": []
    },
    {
     "cell_type": "markdown",
     "metadata": {},
     "source": [
      "Does that look right? The `readline` method reads each line from the file and includes the newline '\\n' character and the `print` function automatically appends a newline character as well, which is why the lines are double spaced. We can get rid of the newline character in the lines that are read by using the `strip` method."
     ]
    },
    {
     "cell_type": "code",
     "collapsed": false,
     "input": [
      "for i in range(10):\n",
      "    line = f.readline().strip()\n",
      "    print(line)\n",
      "f.close()"
     ],
     "language": "python",
     "metadata": {},
     "outputs": []
    },
    {
     "cell_type": "markdown",
     "metadata": {},
     "source": [
      "Note that since we did not close the file or reset the file handle to the start of the file, the second time we used the readline method it continued from where it left off. The file is closed using the `close` method."
     ]
    },
    {
     "cell_type": "markdown",
     "metadata": {},
     "source": [
      "Read the file content into a numpy array the long way"
     ]
    },
    {
     "cell_type": "code",
     "collapsed": false,
     "input": [
      "import numpy \n",
      "\n",
      "# Open the file \n",
      "f = open('data/phl_temperature_noheaders.txt','r')\n",
      "\n",
      "# Read all the lines into a list. Each line will be one entry in the list\n",
      "content = f.readlines()\n",
      "\n",
      "# Close the file since we do not need it anymore \n",
      "f.close()\n",
      "\n",
      "# Loop through and convert the string content to numbers\n",
      "data = []\n",
      "for i in content:\n",
      "    a = []\n",
      "    for j in i.split():\n",
      "        a.append(int(j))\n",
      "    data.append(a)\n",
      "\n",
      "# Print some stuff\n",
      "data = numpy.array(data)\n",
      "print(type(data))\n",
      "print(data.shape)\n",
      "print(data[0])"
     ],
     "language": "python",
     "metadata": {},
     "outputs": []
    },
    {
     "cell_type": "code",
     "collapsed": false,
     "input": [
      "# The one line fancy version of reading the data file using list comprehensions\n",
      "data2 = numpy.array([ [int(i) for i in line.split()] for line in open('data/phl_temperature_noheaders.txt').readlines() ])\n",
      "print(type(data2))\n",
      "print(data2.shape)\n",
      "print(data2[0])"
     ],
     "language": "python",
     "metadata": {},
     "outputs": []
    },
    {
     "cell_type": "markdown",
     "metadata": {},
     "source": [
      "Now that the data is available in the form of a numpy array, we can use the slicing methods to extract subsets of data. Note that all the temperatures entries for Feb 29 in non leap years is meaningless. So when we do further analysis, we need to account for this. Here are a few examples."
     ]
    },
    {
     "cell_type": "code",
     "collapsed": false,
     "input": [
      "# The daily high temperature stored in the 4th column of the file\n",
      "daily_high = data[:,3]\n",
      "\n",
      "# The daily low temperature stored in the 5th column of the file\n",
      "daily_low = data[:,4]\n",
      "\n",
      "# Leap year\n",
      "def check_notleapyear(year):\n",
      "    \"\"\"Check if a year is a leap year\n",
      "    \n",
      "    Check if a year is a leap year. If year is an array then it \n",
      "    returns an array of boolean leap year.\n",
      "    \n",
      "    Parameters\n",
      "    ----------\n",
      "    year : array_like\n",
      "        array of years\n",
      "   \n",
      "    Returns\n",
      "    -------\n",
      "    out : numpy array\n",
      "        an array of boolean leap year, or array of number of days\n",
      "\n",
      "    \"\"\"\n",
      "    import numpy\n",
      "    if not isinstance(year, (tuple, numpy.ndarray, list)):\n",
      "        year = [year]\n",
      "    mask400 = [(i % 400) == 0 for i in year]   \n",
      "    mask100 = [(i % 100) == 0 for i in year ]  \n",
      "    mask4   = [(i % 4) == 0 for i in year ]   \n",
      "    ans = [ not bool(((a[0] | a[2]) & (~a[1] | a[0]))) for a in zip(mask400, mask100, mask4)]\n",
      "    if len(ans) == 1:\n",
      "        return ans[0]\n",
      "    else:\n",
      "        return ans\n",
      "\n",
      "# Convert temperatures\n",
      "def ftoc(tf):\n",
      "    \"\"\"Convert an array of tempertures from fahrenheit to celsius\n",
      "    \n",
      "    Parameters\n",
      "    ----------\n",
      "    tf: numpy.ndarray\n",
      "        Array of temperatures in Farenheit\n",
      "        \n",
      "    Returns\n",
      "    -------\n",
      "    tc: numpy.ndarray\n",
      "        Array of temperatures in Celsius\n",
      "        \n",
      "    \"\"\"\n",
      "    return (tf-32.0)*5.0/9.0\n",
      "\n",
      "def ctof(tc):\n",
      "    \"\"\"Convert an array of tempertures from celsius to fahrenheit\n",
      "    \n",
      "    Parameters\n",
      "    ----------\n",
      "    tc: numpy.ndarray\n",
      "        Array of temperatures in Celsius\n",
      "        \n",
      "    Returns\n",
      "    -------\n",
      "    tf: numpy.ndarray\n",
      "        Array of temperatures in Farenheit\n",
      "        \n",
      "    \"\"\"\n",
      "    return (9.0/5.0)*tc + 32.0\n",
      "\n",
      "\n",
      "# Temperatures on Feb 29th\n",
      "# feb29 = numpy.where(((data[:,0] == 2) & (data[:,1]==29) & check_notleapyear(data[:,2].astype(int))))\n",
      "feb29 = numpy.where(numpy.logical_and.reduce(((data[:,0] == 2),(data[:,1]==29),check_notleapyear(data[:,2].astype(int)))))\n",
      "\n",
      "print(data[feb29])\n",
      "data_new = numpy.delete(data,feb29,axis=0)\n",
      "print(data_new)\n",
      "high = data_new[:,3]\n",
      "low = data_new[:,4]"
     ],
     "language": "python",
     "metadata": {},
     "outputs": []
    },
    {
     "cell_type": "markdown",
     "metadata": {},
     "source": [
      "Some simple analysis that can be performed.\n",
      "\n",
      "* The maximum and minimum recorded temperature between 1950 and 1999\n",
      "* Calculate the average daily high and low temperatures.\n",
      "* The difference between the high and low temperatures for each day from 1 Jan 1950 to 31 Dec 1999. \n",
      "* Statistics of the daily difference between the low and high (check out numpy.histogram)\n",
      "* The \"day-wise\" highest and lowest temperatures, i.e. the highest and lowest recorded temperature on January 1 in the 49 years of data and which year were they recorded. Similarly for January 2, January 3 etc.\n",
      "* The \"day-wise\" average high and low temperatures, i.e.  average high on Jan 1, average high on Jan 2, ...etc.\n"
     ]
    },
    {
     "cell_type": "code",
     "collapsed": false,
     "input": [
      "# Plot the entire data set\n",
      "import numpy as np\n",
      "import matplotlib.pyplot as plt\n",
      "import matplotlib.gridspec as gridspec\n",
      "\n",
      "# Plot the data\n",
      "fig = plt.figure(figsize=(8,3),dpi=300)\n",
      "gs = gridspec.GridSpec(1,2)\n",
      "ax1 = plt.subplot(gs[0,0])\n",
      "ax2 = plt.subplot(gs[0,1])\n",
      "\n",
      "# Generate fake data\n",
      "x = np.arange(len(high))\n",
      "\n",
      "# Plot \n",
      "ax1.plot(x/100,high)\n",
      "ax2.plot(x/100,low)\n",
      "xmin = 0\n",
      "xmax = 180\n",
      "ax1.set_xlim([xmin,xmax])\n",
      "ax1.set_ylim([0,105])\n",
      "ax2.set_xlim([xmin,xmax])\n",
      "ax2.set_ylim([0,85])"
     ],
     "language": "python",
     "metadata": {},
     "outputs": []
    },
    {
     "cell_type": "code",
     "collapsed": false,
     "input": [
      "# Compute the daily average high and low\n",
      "print(data2.shape)\n",
      "\n",
      "# Reshape the array\n",
      "daily_highs = data.reshape(18300/366,366*5)[:,3::5]\n",
      "daily_lows = data.reshape(18300/366,366*5)[:,4::5]\n",
      "\n",
      "daily_mean_highs = np.mean(daily_highs,axis=0)\n",
      "daily_mean_lows = np.mean(daily_lows,axis=0)\n",
      "\n",
      "# Fix the Feb 29 entries\n",
      "# Use the numpy masked arrays package\n",
      "import numpy.ma as ma\n",
      "daily_highs = ma.masked_outside(data.reshape(18300/366,366*5)[:,3::5],-100,150)\n",
      "daily_lows = ma.masked_outside(data.reshape(18300/366,366*5)[:,4::5],-100,150)\n",
      "daily_mean_highs = ma.mean(daily_highs,axis=0)\n",
      "daily_mean_lows = ma.mean(daily_lows,axis=0)"
     ],
     "language": "python",
     "metadata": {},
     "outputs": []
    },
    {
     "cell_type": "code",
     "collapsed": false,
     "input": [
      "# Plot the entire data set\n",
      "import numpy as np\n",
      "import matplotlib.pyplot as plt\n",
      "import matplotlib.gridspec as gridspec\n",
      "\n",
      "# Set some fonts and other settings\n",
      "\n",
      "# Plot the data\n",
      "fig = plt.figure(figsize=(4,3),dpi=300)\n",
      "gs = gridspec.GridSpec(1,1)\n",
      "ax1 = plt.subplot(gs[0,0])\n",
      "\n",
      "# Generate fake data\n",
      "x = np.arange(1,367)\n",
      "\n",
      "# Plot \n",
      "ax1.plot(x,daily_mean_highs, color='r', lw=1.5, label='Highs')\n",
      "ax1.plot(x,daily_mean_lows,  color='g', lw=1.5, label='Lows')\n",
      "ax1.set_xlim([0,367])\n",
      "ax1.set_ylim([0,105])\n",
      "ax1.set_ylabel('$T / F^{\\circ}$')\n",
      "ax1.set_xlabel('Day')\n"
     ],
     "language": "python",
     "metadata": {},
     "outputs": []
    },
    {
     "cell_type": "code",
     "collapsed": false,
     "input": [
      "import datetime\n",
      "import matplotlib as mpl\n",
      "import matplotlib.pyplot as plt\n",
      "\n",
      "def fdate(x):\n",
      "    \"\"\"Return the day of the year in MMDD format\n",
      "    \n",
      "    Parameters\n",
      "    ----------\n",
      "    x: list\n",
      "        Number of days since Jan 1\n",
      "        \n",
      "    Returns\n",
      "    -------\n",
      "    f: list\n",
      "        Date in MMDD format - e.g. J24 for January 24\n",
      "    \"\"\"\n",
      "    if not isinstance(x, (tuple, numpy.ndarray, list)):\n",
      "        t = [t]\n",
      "    f = []\n",
      "    for i in x:\n",
      "        t = datetime.date(2000, 1, 1) + datetime.timedelta(i-1)\n",
      "        m = t.strftime('%b')[0]\n",
      "        d = t.timetuple().tm_mday\n",
      "        f.append(m+str(d))\n",
      "    return f\n",
      "\n",
      "# Set fonts\n",
      "fontprops = {'family':'sans-serif','style':'normal', 'size':12}\n",
      "mpl.rc('font', **fontprops)\n",
      "\n",
      "# Create the figure and axis\n",
      "fig = plt.figure(figsize=(4,3),dpi=300)\n",
      "gs = gridspec.GridSpec(1,1)\n",
      "ax1 = plt.subplot(gs[0,0])\n",
      "\n",
      "# Set the xaxis ticks\n",
      "x = np.arange(1,367)\n",
      "xtics = [1, 100, 200, 300, 366]\n",
      "xlabs = fdate(xtics)\n",
      "\n",
      "# Plot \n",
      "ax1.plot(x,daily_mean_highs, color='r', lw=1.5, label='Highs')\n",
      "ax1.plot(x,daily_mean_lows,  color='g', lw=1.5, label='Lows')\n",
      "ax1.set_xlim([0,367])\n",
      "ax1.set_ylim([0,105])\n",
      "ax1.set_ylabel('T ($^{\\circ}$F)',fontsize=16)\n",
      "ax1.set_xlabel('Day',fontsize=16)\n",
      "ax1.set_xticks(xtics)\n",
      "ax1xlabs = ax1.set_xticklabels(xlabs)"
     ],
     "language": "python",
     "metadata": {},
     "outputs": []
    },
    {
     "cell_type": "code",
     "collapsed": false,
     "input": [],
     "language": "python",
     "metadata": {},
     "outputs": []
    }
   ],
   "metadata": {}
  }
 ]
}